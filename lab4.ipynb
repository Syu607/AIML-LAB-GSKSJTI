{
  "metadata": {
    "kernelspec": {
      "name": "python",
      "display_name": "Python (Pyodide)",
      "language": "python"
    },
    "language_info": {
      "codemirror_mode": {
        "name": "python",
        "version": 3
      },
      "file_extension": ".py",
      "mimetype": "text/x-python",
      "name": "python",
      "nbconvert_exporter": "python",
      "pygments_lexer": "ipython3",
      "version": "3.8"
    }
  },
  "nbformat_minor": 4,
  "nbformat": 4,
  "cells": [
    {
      "cell_type": "code",
      "source": "import pandas as pd\nimport numpy as np\nfrom numpy import log2 as log\nimport pprint\n\neps = np.finfo(float).eps\n\ndef find_entropy(df):\n    Class = df.keys()[-1]\n    values, counts = np.unique(df[Class], return_counts=True)\n    fractions = counts / len(df[Class])\n    return -np.sum(fractions * np.log2(fractions))\n\ndef find_entropy_attribute(df, attribute):\n    Class = df.keys()[-1]\n    target_variables = df[Class].unique()\n    variables = df[attribute].unique() \n    entropy2 = 0\n    for variable in variables:\n        subset_df = df[df[attribute] == variable]\n        fractions = subset_df[Class].value_counts() / len(subset_df)\n        entropy = -np.sum(fractions * np.log2(fractions))\n        fraction2 = len(subset_df) / len(df)\n        entropy2 += -fraction2 * entropy\n    return abs(entropy2)\n\ndef find_winner(df):\n    IG = [\n        find_entropy(df) - find_entropy_attribute(df, key)\n        for key in df.keys()[:-1]]\n    return df.keys()[:-1][np.argmax(IG)]\n\ndef get_subtable(df, node, value):\n    return df[df[node] == value].reset_index(drop=True)\n\ndef buildTree(df, tree=None):\n    node = find_winner(df)\n    attValue = np.unique(df[node])\n    if tree is None:\n        tree = {node: {}}\n    for value in attValue:\n        subtable = df[df[node] == value]\n        clValue, counts = np.unique(subtable[df.keys()[-1]], return_counts=True)\n        tree[node][value] = clValue[0] if len(counts) == 1 else buildTree(subtable)\n    return tree\n\ndf = pd.read_csv(\"tennis.csv\")\ntree = buildTree(df)\npprint.pprint(tree)",
      "metadata": {
        "trusted": true
      },
      "outputs": [
        {
          "name": "stdout",
          "text": "{'Outlook': {'Overcast': 'Yes',\n             'Rain': {'Wind': {'Strong': 'No', 'Weak': 'Yes'}},\n             'Sunny': {'Humidity': {'High': 'No', 'Normal': 'Yes'}}}}\n",
          "output_type": "stream"
        }
      ],
      "execution_count": 1
    },
    {
      "cell_type": "code",
      "source": "",
      "metadata": {},
      "outputs": [],
      "execution_count": null
    }
  ]
}