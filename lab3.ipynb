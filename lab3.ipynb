{
  "metadata": {
    "language_info": {
      "codemirror_mode": {
        "name": "python",
        "version": 3
      },
      "file_extension": ".py",
      "mimetype": "text/x-python",
      "name": "python",
      "nbconvert_exporter": "python",
      "pygments_lexer": "ipython3",
      "version": "3.8"
    },
    "kernelspec": {
      "name": "python",
      "display_name": "Python (Pyodide)",
      "language": "python"
    }
  },
  "nbformat_minor": 4,
  "nbformat": 4,
  "cells": [
    {
      "cell_type": "code",
      "source": "import csv\nwith open(\"trainingdata.csv\") as f:\n    csv_file = csv.reader(f)\n    data = list(csv_file)\n\n    s = data[1][:-1]\n    g = [['?' for i in range(len(s))] for j in range(len(s))]\n\n    for i in data:\n        if i[-1] == \"Yes\":\n            for j in range(len(s)):\n                if i[j] != s[j]:\n                    s[j] = '?'\n                    g[j][j] = '?'\n\n        elif i[-1] == \"No\":\n            for j in range(len(s)):\n                if i[j] != s[j]:\n                    g[j][j] = s[j]\n                else:\n                    g[j][j] = \"?\"\n    gh = []\n    for i in g:\n        for j in i:\n            if j != '?':\n                gh.append(i)\n                break\n    print(\"\\nFinal specific hypothesis:\\n\", s)\n\n    print(\"\\nFinal general hypothesis:\\n\", gh)   ",
      "metadata": {
        "trusted": true
      },
      "execution_count": 6,
      "outputs": [
        {
          "name": "stdout",
          "text": "\nFinal specific hypothesis:\n ['Sunny', 'Warm', '?', 'Strong', '?', '?']\n\nFinal general hypothesis:\n [['Sunny', '?', '?', '?', '?', '?'], ['?', 'Warm', '?', '?', '?', '?']]\n",
          "output_type": "stream"
        }
      ]
    },
    {
      "cell_type": "code",
      "source": "",
      "metadata": {},
      "execution_count": null,
      "outputs": []
    }
  ]
}