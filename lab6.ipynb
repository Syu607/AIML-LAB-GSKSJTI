{
  "metadata": {
    "kernelspec": {
      "name": "python",
      "display_name": "Python (Pyodide)",
      "language": "python"
    },
    "language_info": {
      "codemirror_mode": {
        "name": "python",
        "version": 3
      },
      "file_extension": ".py",
      "mimetype": "text/x-python",
      "name": "python",
      "nbconvert_exporter": "python",
      "pygments_lexer": "ipython3",
      "version": "3.8"
    }
  },
  "nbformat_minor": 4,
  "nbformat": 4,
  "cells": [
    {
      "cell_type": "code",
      "source": "import pandas as pd\nfrom sklearn.preprocessing import LabelEncoder \nfrom sklearn.model_selection import train_test_split\n\ndata = pd.read_csv('tennis.csv')\n\nX = data.iloc[:, :-1]\n\nY = data.iloc[:, -1]\n\nobj1= LabelEncoder()\nX.Outlook = obj1.fit_transform(X.Outlook)\n\nobj2 = LabelEncoder()\nX.Temperature = obj2.fit_transform(X.Temperature)\n\nobj3 = LabelEncoder()\nX.Humidity = obj3.fit_transform(X.Humidity)\n\nobj4 = LabelEncoder()\nX.Wind = obj4.fit_transform(X.Wind)\n\nobj5 = LabelEncoder()\nY = obj5.fit_transform(Y)\n\nX_train, X_test, Y_train, Y_test = train_test_split(X,Y, test_size = 0.20)\n\nfrom sklearn.naive_bayes import GaussianNB \nclassifier = GaussianNB() \nclassifier.fit(X_train, Y_train)\nfrom sklearn.metrics import accuracy_score\nprint(\"Accuracy is:\", accuracy_score(classifier.predict(X_test), Y_test))",
      "metadata": {
        "trusted": true
      },
      "outputs": [
        {
          "name": "stderr",
          "text": "<ipython-input-2-740f6e541a86>:12: SettingWithCopyWarning: \nA value is trying to be set on a copy of a slice from a DataFrame.\nTry using .loc[row_indexer,col_indexer] = value instead\n\nSee the caveats in the documentation: https://pandas.pydata.org/pandas-docs/stable/user_guide/indexing.html#returning-a-view-versus-a-copy\n  X.Outlook = obj1.fit_transform(X.Outlook)\n<ipython-input-2-740f6e541a86>:15: SettingWithCopyWarning: \nA value is trying to be set on a copy of a slice from a DataFrame.\nTry using .loc[row_indexer,col_indexer] = value instead\n\nSee the caveats in the documentation: https://pandas.pydata.org/pandas-docs/stable/user_guide/indexing.html#returning-a-view-versus-a-copy\n  X.Temperature = obj2.fit_transform(X.Temperature)\n<ipython-input-2-740f6e541a86>:18: SettingWithCopyWarning: \nA value is trying to be set on a copy of a slice from a DataFrame.\nTry using .loc[row_indexer,col_indexer] = value instead\n\nSee the caveats in the documentation: https://pandas.pydata.org/pandas-docs/stable/user_guide/indexing.html#returning-a-view-versus-a-copy\n  X.Humidity = obj3.fit_transform(X.Humidity)\n<ipython-input-2-740f6e541a86>:21: SettingWithCopyWarning: \nA value is trying to be set on a copy of a slice from a DataFrame.\nTry using .loc[row_indexer,col_indexer] = value instead\n\nSee the caveats in the documentation: https://pandas.pydata.org/pandas-docs/stable/user_guide/indexing.html#returning-a-view-versus-a-copy\n  X.Wind = obj4.fit_transform(X.Wind)\n",
          "output_type": "stream"
        },
        {
          "name": "stdout",
          "text": "Accuracy is: 0.3333333333333333\n",
          "output_type": "stream"
        }
      ],
      "execution_count": 2
    },
    {
      "cell_type": "code",
      "source": "",
      "metadata": {
        "trusted": true
      },
      "outputs": [],
      "execution_count": null
    }
  ]
}