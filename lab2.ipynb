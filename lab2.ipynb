{
  "metadata": {
    "language_info": {
      "codemirror_mode": {
        "name": "python",
        "version": 3
      },
      "file_extension": ".py",
      "mimetype": "text/x-python",
      "name": "python",
      "nbconvert_exporter": "python",
      "pygments_lexer": "ipython3",
      "version": "3.8"
    },
    "kernelspec": {
      "name": "python",
      "display_name": "Python (Pyodide)",
      "language": "python"
    }
  },
  "nbformat_minor": 4,
  "nbformat": 4,
  "cells": [
    {
      "cell_type": "code",
      "source": "class Graph:\n    def __init__(self, graph, heuristicNodeList, startNode): \n        self.graph = graph\n        self.H=heuristicNodeList\n        self.start=startNode\n        self.parent={}\n        self.status={}\n        self.solutionGraph={}\n        \n    def applyAOStar(self): \n        self.aoStar(self.start, False)\n\n    def getNeighbors(self, v): \n        return self.graph.get(v,'')\n\n    def getStatus(self,v): \n        return self.status.get(v,0)\n\n    def setStatus(self,v, val): \n        self.status[v]=val\n\n    def getHeuristicNodeValue(self, n):\n        return self.H.get(n,0) \n\n    def setHeuristicNodeValue(self, n, value):\n        self.H[n]=value \n    \n    def printSolution(self):\n        print(\"FOR GRAPH SOLUTION, TRAVERSE THE GRAPH FROM THE START NODE:\",self.start)\n        print(\"------------------------------------------------------------\")\n        print(self.solutionGraph)\n        print(\"------------------------------------------------------------\")\n\n    def computeMinimumCostChildNodes(self, v):\n        minimumCost=0\n        costToChildNodeListDict = {minimumCost: []}\n        flag=True\n        for nodeInfoTupleList in self.getNeighbors(v): \n            cost=0\n            nodeList=[]\n            for c, weight in nodeInfoTupleList:\n                cost=cost+self.getHeuristicNodeValue(c)+weight\n                nodeList.append(c)\n            if flag==True: \n                minimumCost=cost\n                costToChildNodeListDict[minimumCost]=nodeList \n                flag=False\n            elif minimumCost>cost:\n                minimumCost=cost\n                costToChildNodeListDict[minimumCost]=nodeList\n        return minimumCost, costToChildNodeListDict[minimumCost]\n\n    def aoStar(self, v, backTracking): \n        if self.getStatus(v) >= 0: \n            self.check(v, backTracking)\n\n    def check(self, v, backTracking):\n        minimumCost, childNodeList = self.computeMinimumCostChildNodes(v)\n        self.setHeuristicNodeValue(v, minimumCost)\n        self.setStatus(v,len(childNodeList))\n        solved=True\n        for childNode in childNodeList:\n            self.parent[childNode]=v\n            if self.getStatus(childNode)!=-1:\n                solved=solved & False\n        if solved==True: \n            self.setStatus(v,-1)\n            self.solutionGraph[v]=childNodeList\n        if v!=self.start: \n            self.aoStar(self.parent[v], True)\n        if backTracking==False: \n            for childNode in childNodeList: \n                self.setStatus(childNode,0) \n                self.aoStar(childNode, False)\n                    \n\nh1 = {'A': 1, 'B': 6, 'C': 2, 'D': 12, 'E': 2, 'F': 1, 'G': 5, 'H': 7, 'I': 7, 'J': 1}\n\ngraph = {\n    'A': [[('B', 1), ('C', 1)], [('D', 1)]],\n    'B': [[('G', 1)], [('H', 1)]],\n    'C': [[('J', 1)]],\n    'D': [[('E', 1), ('F', 1)]],\n    'G': [[('I', 1)]]\n}\n\nG1= Graph(graph, h1, 'A')\nG1.applyAOStar()\nG1.printSolution()\n#FOR GRAPH SOLUTION, TRAVERSE THE GRAPH FROM THE START NODE: A\n#------------------------------------------------------------\n#{'I': [], 'G': ['I'], 'B': ['G'], 'J': [], 'C': ['J'], 'A': ['B', 'C']}\n#------------------------------------------------------------",
      "metadata": {
        "trusted": true
      },
      "execution_count": 14,
      "outputs": [
        {
          "name": "stdout",
          "text": "FOR GRAPH SOLUTION, TRAVERSE THE GRAPH FROM THE START NODE: A\n------------------------------------------------------------\n{'I': [], 'G': ['I'], 'B': ['G'], 'J': [], 'C': ['J'], 'A': ['B', 'C']}\n------------------------------------------------------------\n",
          "output_type": "stream"
        }
      ]
    },
    {
      "cell_type": "code",
      "source": "",
      "metadata": {},
      "execution_count": null,
      "outputs": []
    }
  ]
}