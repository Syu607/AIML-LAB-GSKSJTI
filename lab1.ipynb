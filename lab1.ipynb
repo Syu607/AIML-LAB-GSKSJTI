{
  "metadata": {
    "kernelspec": {
      "name": "python",
      "display_name": "Python (Pyodide)",
      "language": "python"
    },
    "language_info": {
      "codemirror_mode": {
        "name": "python",
        "version": 3
      },
      "file_extension": ".py",
      "mimetype": "text/x-python",
      "name": "python",
      "nbconvert_exporter": "python",
      "pygments_lexer": "ipython3",
      "version": "3.8"
    }
  },
  "nbformat_minor": 4,
  "nbformat": 4,
  "cells": [
    {
      "cell_type": "code",
      "source": "import heapq\n\ndef aStarAlgo(start_node, stop_node):\n    open_set = [(0, start_node)]\n    closed_set = set()\n    g = {start_node: 0}\n    parents = {start_node: start_node}\n    while open_set:\n        f, n = heapq.heappop(open_set)\n        if n == stop_node:\n            return check(parents, n, start_node)\n        closed_set.add(n)\n        for m, weight in get_neighbors(n):\n            if m in closed_set:\n                continue\n            if m not in g or g[m] > g[n] + weight:\n                g[m] = g[n] + weight\n                parents[m] = n\n                heapq.heappush(open_set, (g[m] + heuristic(m), m))\n    return None\n\ndef check(parents, n, start_node):\n    path = []\n    while n != start_node:\n        path.append(n)\n        n = parents[n]\n    path.append(start_node)\n    print(f'Path found: {path[::-1]}')\n    return path[::-1]\n\ndef get_neighbors(v):\n    return Graph_nodes[v] if v in Graph_nodes else None\n\ndef heuristic(n):\n    H_dist = {\n        'A': 11,\n        'B': 6,\n        'C': 99,\n        'D': 1,\n        'E': 7,\n        'G': 0,\n        }\n    return H_dist[n]\n\nGraph_nodes = {\n    'A': [('B', 2), ('E', 3)],\n    'B': [('C', 1), ('G', 9)],\n    'C': None,\n    'E': [('D', 6)],\n    'D': [('G', 1)],\n    }\n\naStarAlgo('A', 'G')",
      "metadata": {
        "trusted": true
      },
      "outputs": [
        {
          "name": "stdout",
          "text": "Path found: ['A', 'E', 'D', 'G']\n",
          "output_type": "stream"
        },
        {
          "execution_count": 1,
          "output_type": "execute_result",
          "data": {
            "text/plain": "['A', 'E', 'D', 'G']"
          },
          "metadata": {}
        }
      ],
      "execution_count": 1
    },
    {
      "cell_type": "code",
      "source": "",
      "metadata": {
        "trusted": true
      },
      "outputs": [],
      "execution_count": null
    }
  ]
}