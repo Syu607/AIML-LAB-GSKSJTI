{
  "metadata": {
    "kernelspec": {
      "name": "python",
      "display_name": "Python (Pyodide)",
      "language": "python"
    },
    "language_info": {
      "codemirror_mode": {
        "name": "python",
        "version": 3
      },
      "file_extension": ".py",
      "mimetype": "text/x-python",
      "name": "python",
      "nbconvert_exporter": "python",
      "pygments_lexer": "ipython3",
      "version": "3.8"
    }
  },
  "nbformat_minor": 4,
  "nbformat": 4,
  "cells": [
    {
      "cell_type": "code",
      "source": "import numpy as np\n\nx = np.array(([2,9], [1,5], [3,6]), dtype=float)\ny = np.array(([94], [85], [67]), dtype=float)\n\nx = x / np.amax(x, axis=0)\ny = y / 100\n\nepochs, lr, i, h, o = 7000, 0.1, 2, 3, 1\nwh, bh = np.random.uniform(size=(i, h)), np.random.uniform(size=(1, h))\nwo, bo = np.random.uniform(size=(h, o)), np.random.uniform(size=(1, o))\n\ndef sigmoid(x):\n    return 1 / (1 + np.exp(-x))\n\ndef dersig(x):\n    return x * (1-x)\n\nfor i in range(epochs):\n    hl = sigmoid(np.dot(x, wh) + bh)        #Hidden layer\n    ol = sigmoid(np.dot(hl, wo) + bo)       #Output layer\n    derOl = (y-ol) * dersig(ol)             #Derivative of output layer\n    derHl = derOl.dot(wo.T) * dersig(hl)    #Derivative of hidden layer\n    wo += hl.T.dot(derOl) * lr              #Weight adjustment of output layer\n    wh += x.T.dot(derHl) * lr               #Weight adjustment of hidden layer\n\nprint(\"Input :\\n\"+str(x))\nprint(\"Actual Output : \\n\"+str(y))\nprint(\"Predicted Output : \\n\", ol)",
      "metadata": {
        "trusted": true
      },
      "outputs": [
        {
          "name": "stdout",
          "text": "Input :\n[[0.66666667 1.        ]\n [0.33333333 0.55555556]\n [1.         0.66666667]]\nActual Output : \n[[0.94]\n [0.85]\n [0.67]]\nPredicted Output : \n [[0.83413203]\n [0.82214633]\n [0.78480619]]\n",
          "output_type": "stream"
        }
      ],
      "execution_count": 1
    },
    {
      "cell_type": "code",
      "source": "",
      "metadata": {},
      "outputs": [],
      "execution_count": null
    }
  ]
}